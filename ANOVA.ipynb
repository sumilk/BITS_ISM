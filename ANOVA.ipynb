{
 "cells": [
  {
   "cell_type": "code",
   "execution_count": 1,
   "id": "ae433232",
   "metadata": {},
   "outputs": [],
   "source": [
    "import pandas as pd\n",
    "import numpy as np\n",
    "from scipy.stats import f"
   ]
  },
  {
   "cell_type": "code",
   "execution_count": 3,
   "id": "59c41a6f",
   "metadata": {},
   "outputs": [
    {
     "name": "stdout",
     "output_type": "stream",
     "text": [
      "   Brand A  Brand B  Brand C\n",
      "0       16       15       15\n",
      "1       17       15       14\n",
      "2       13       13       13\n",
      "3       18       17       14\n",
      "\n",
      "Group Means: \n",
      "Brand A    16.0\n",
      "Brand B    15.0\n",
      "Brand C    14.0\n",
      "dtype: float64\n",
      "\n",
      "Grand Mean:15.0\n",
      "Sum of Squares Between (SSB): 8.0\n",
      "Sum of Squares Within (SSW): 8.0\n",
      "Mean Square Between (MSB): 4.0\n",
      "Mean Square Within (MSW): 2.6666666666666665\n",
      "\n",
      "F-statistic: 1.5\n",
      "\n",
      "F-critical value at alpha = 0.05: 4.25649472909375\n",
      "\n",
      "Fail to reject null hypothesis since F-observed < F-critical\n"
     ]
    }
   ],
   "source": [
    "# Data\n",
    "data = {'Brand A': [16, 17, 13, 18],\n",
    "        'Brand B': [15, 15, 13, 17],\n",
    "        'Brand C': [15, 14, 13, 14]}\n",
    "\n",
    "df = pd.DataFrame(data)\n",
    "\n",
    "print(df)\n",
    "\n",
    "# Group means\n",
    "group_means = df.mean()\n",
    "print(f'\\nGroup Means: \\n{group_means}')\n",
    "\n",
    "# Grand mean\n",
    "grand_mean = df.values.mean()\n",
    "print(f'\\nGrand Mean:{grand_mean}')\n",
    "\n",
    "# Sum of Squares Between (SSB)\n",
    "ssb = ((group_means - grand_mean)**2 * len(df)).sum()\n",
    "print(f'Sum of Squares Between (SSB): {ssb}')\n",
    "\n",
    "# Sum of Squares Within (SSW)\n",
    "ssw = ((df - group_means)**2).values.sum()\n",
    "print(f'Sum of Squares Within (SSW): {ssb}')\n",
    "\n",
    "# Mean Square Between (MSB)\n",
    "msb = ssb / (len(df.columns) - 1)\n",
    "print(f'Mean Square Between (MSB): {msb}')\n",
    "\n",
    "# Mean Square Within (MSW)\n",
    "msw = ssw / (df.values.size - len(df.columns))\n",
    "print(f'Mean Square Within (MSW): {msw}')\n",
    "\n",
    "# F-statistic\n",
    "f_statistic = msb / msw\n",
    "\n",
    "# F-critical value\n",
    "alpha = 0.05\n",
    "dfn = len(df.columns) - 1\n",
    "dfd = df.values.size - len(df.columns)\n",
    "f_critical = f.ppf(1 - alpha, dfn, dfd)\n",
    "\n",
    "print(f\"\\nF-statistic: {f_statistic}\")\n",
    "print(f\"\\nF-critical value at alpha = {alpha}: {f_critical}\")\n",
    "\n",
    "if f_statistic > f_critical:\n",
    "    print(\"\\nReject null hypothesis: since F-observed > F-critical\")\n",
    "else:\n",
    "    print(\"\\nFail to reject null hypothesis since F-observed < F-critical\")"
   ]
  },
  {
   "cell_type": "code",
   "execution_count": null,
   "id": "2e4bb02c",
   "metadata": {},
   "outputs": [],
   "source": []
  }
 ],
 "metadata": {
  "kernelspec": {
   "display_name": "Python 3 (ipykernel)",
   "language": "python",
   "name": "python3"
  },
  "language_info": {
   "codemirror_mode": {
    "name": "ipython",
    "version": 3
   },
   "file_extension": ".py",
   "mimetype": "text/x-python",
   "name": "python",
   "nbconvert_exporter": "python",
   "pygments_lexer": "ipython3",
   "version": "3.7.16"
  }
 },
 "nbformat": 4,
 "nbformat_minor": 5
}
